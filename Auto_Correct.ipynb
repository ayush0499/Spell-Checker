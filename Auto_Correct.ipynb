{
  "nbformat": 4,
  "nbformat_minor": 0,
  "metadata": {
    "colab": {
      "name": "Auto Correct.ipynb",
      "provenance": [],
      "collapsed_sections": []
    },
    "kernelspec": {
      "name": "python3",
      "display_name": "Python 3"
    }
  },
  "cells": [
    {
      "cell_type": "code",
      "metadata": {
        "id": "5DSHMQPNEcSX"
      },
      "source": [
        "import re"
      ],
      "execution_count": null,
      "outputs": []
    },
    {
      "cell_type": "code",
      "metadata": {
        "id": "7htTO-MLE6_c"
      },
      "source": [
        "def process_data(file_name):\n",
        "    \n",
        "    words = []\n",
        "\n",
        "    with open(file_name,\"r\") as f:\n",
        "        text = f.read()\n",
        "    \n",
        "    text = text.lower()\n",
        "    words = re.findall(r'\\w+', text)\n",
        "    \n",
        "    return words"
      ],
      "execution_count": null,
      "outputs": []
    },
    {
      "cell_type": "code",
      "metadata": {
        "id": "TrSf-c9FFJLF",
        "colab": {
          "base_uri": "https://localhost:8080/"
        },
        "outputId": "b283d0c0-520a-4c80-f9cc-9b693b63ea37"
      },
      "source": [
        "word_l = process_data('shakespeare.txt')\n",
        "vocab = set(word_l)\n",
        "print(f\"The first ten words in the text are: \\n{word_l[0:10]}\")\n",
        "print(f\"There are {len(vocab)} unique words in the vocabulary.\")"
      ],
      "execution_count": null,
      "outputs": [
        {
          "output_type": "stream",
          "text": [
            "The first ten words in the text are: \n",
            "['o', 'for', 'a', 'muse', 'of', 'fire', 'that', 'would', 'ascend', 'the']\n",
            "There are 6116 unique words in the vocabulary.\n"
          ],
          "name": "stdout"
        }
      ]
    },
    {
      "cell_type": "code",
      "metadata": {
        "id": "xW9jD_yMFSoT"
      },
      "source": [
        "def get_count(word_l):\n",
        "    \n",
        "    word_count_dict = {} \n",
        "\n",
        "    for word in word_l:\n",
        "        if word not in word_count_dict:\n",
        "            word_count_dict[word] = 1\n",
        "        else:\n",
        "            word_count_dict[word] += 1\n",
        " \n",
        "    return word_count_dict"
      ],
      "execution_count": null,
      "outputs": []
    },
    {
      "cell_type": "code",
      "metadata": {
        "id": "6gEZYSpHFcwn",
        "colab": {
          "base_uri": "https://localhost:8080/"
        },
        "outputId": "99dc5e04-f1e7-4611-a2a2-18ca25cac1d4"
      },
      "source": [
        "word_count_dict = get_count(word_l)\n",
        "print(f\"There are {len(word_count_dict)} key values pairs\")\n",
        "print(f\"The count for the word 'thee' is {word_count_dict.get('thee',0)}\")"
      ],
      "execution_count": null,
      "outputs": [
        {
          "output_type": "stream",
          "text": [
            "There are 6116 key values pairs\n",
            "The count for the word 'thee' is 240\n"
          ],
          "name": "stdout"
        }
      ]
    },
    {
      "cell_type": "code",
      "metadata": {
        "id": "uPF99oHkFhPm"
      },
      "source": [
        "def get_probs(word_count_dict):\n",
        "    \n",
        "    probs = {}  \n",
        "    t = 0\n",
        "    for i in word_count_dict.values():\n",
        "        t += i\n",
        "    \n",
        "    for word,i in word_count_dict.items():\n",
        "        probs[word] = i/t\n",
        "    \n",
        "    return probs"
      ],
      "execution_count": null,
      "outputs": []
    },
    {
      "cell_type": "code",
      "metadata": {
        "id": "YmSWE_Z6FuEx",
        "colab": {
          "base_uri": "https://localhost:8080/"
        },
        "outputId": "3e5bc593-8b6a-4ba8-fa6c-aed14204186d"
      },
      "source": [
        "probs = get_probs(word_count_dict)\n",
        "print(f\"Length of probs is {len(probs)}\")\n",
        "print(f\"P('thee') is {probs['thee']:.4f}\")"
      ],
      "execution_count": null,
      "outputs": [
        {
          "output_type": "stream",
          "text": [
            "Length of probs is 6116\n",
            "P('thee') is 0.0045\n"
          ],
          "name": "stdout"
        }
      ]
    },
    {
      "cell_type": "code",
      "metadata": {
        "id": "KSHLG9JzFyT0"
      },
      "source": [
        "def delete_letter(word, verbose=False):\n",
        "    \n",
        "    delete_l = []\n",
        "    split_l = []\n",
        "    \n",
        "    split_l = [(word[:i],word[i:]) for i in range(len(word))]\n",
        "    \n",
        "    delete_l = [l+r[1:] for l,r in split_l if r]\n",
        "    \n",
        "    if verbose: print(f\"input word {word}, \\nsplit_l = {split_l}, \\ndelete_l = {delete_l}\")\n",
        "\n",
        "    return delete_l"
      ],
      "execution_count": null,
      "outputs": []
    },
    {
      "cell_type": "code",
      "metadata": {
        "id": "p69tvwRwF90d",
        "colab": {
          "base_uri": "https://localhost:8080/"
        },
        "outputId": "5966d113-0940-42f2-96ed-9cd2d94a0eb4"
      },
      "source": [
        "delete_word_l = delete_letter(word=\"cans\",verbose=True)"
      ],
      "execution_count": null,
      "outputs": [
        {
          "output_type": "stream",
          "text": [
            "input word cans, \n",
            "split_l = [('', 'cans'), ('c', 'ans'), ('ca', 'ns'), ('can', 's')], \n",
            "delete_l = ['ans', 'cns', 'cas', 'can']\n"
          ],
          "name": "stdout"
        }
      ]
    },
    {
      "cell_type": "code",
      "metadata": {
        "id": "peAJGZaxGEBI",
        "colab": {
          "base_uri": "https://localhost:8080/"
        },
        "outputId": "aac92c8b-41ff-4afc-aa42-a4ba2ac42282"
      },
      "source": [
        "print(f\"Number of outputs of delete_letter('at') is {len(delete_letter('at'))}\")"
      ],
      "execution_count": null,
      "outputs": [
        {
          "output_type": "stream",
          "text": [
            "Number of outputs of delete_letter('at') is 2\n"
          ],
          "name": "stdout"
        }
      ]
    },
    {
      "cell_type": "code",
      "metadata": {
        "id": "VlvX2TeLGP_M"
      },
      "source": [
        "def switch_letter(word, verbose=False):\n",
        "    \n",
        "    switch_l = []\n",
        "    split_l = []\n",
        "    \n",
        "    split_l = [(word[:i],word[i:]) for i in range(len(word))]\n",
        "    \n",
        "    switch_l = [l+r[1:2]+r[0:1]+r[2:] for l,r in split_l if len(r) >= 2]\n",
        "    \n",
        "    if verbose: print(f\"Input word = {word} \\nsplit_l = {split_l} \\nswitch_l = {switch_l}\") \n",
        "\n",
        "    return switch_l"
      ],
      "execution_count": null,
      "outputs": []
    },
    {
      "cell_type": "code",
      "metadata": {
        "id": "j_X8RHRHGaks",
        "colab": {
          "base_uri": "https://localhost:8080/"
        },
        "outputId": "05842155-e768-4cfd-f92f-07a79b74f272"
      },
      "source": [
        "switch_word_l = switch_letter(word=\"eta\",verbose=True)"
      ],
      "execution_count": null,
      "outputs": [
        {
          "output_type": "stream",
          "text": [
            "Input word = eta \n",
            "split_l = [('', 'eta'), ('e', 'ta'), ('et', 'a')] \n",
            "switch_l = ['tea', 'eat']\n"
          ],
          "name": "stdout"
        }
      ]
    },
    {
      "cell_type": "code",
      "metadata": {
        "id": "Oopc1dUwGjWC"
      },
      "source": [
        "def replace_letter(word, verbose=False):\n",
        "    \n",
        "    letters = 'abcdefghijklmnopqrstuvwxyz'\n",
        "    replace_l = []\n",
        "    split_l = []\n",
        "    \n",
        "    split_l = [(word[:i],word[i:]) for i in range(len(word))]\n",
        "    \n",
        "    replace_l = [ l+c+r[1:] for l,r in split_l if r for c in letters if c!=r[0]]\n",
        "    \n",
        "    replace_l = sorted(replace_l)\n",
        "    \n",
        "    if verbose: print(f\"Input word = {word} \\nsplit_l = {split_l} \\nreplace_l {replace_l}\")   \n",
        "    \n",
        "    return replace_l"
      ],
      "execution_count": null,
      "outputs": []
    },
    {
      "cell_type": "code",
      "metadata": {
        "id": "IHZ0LaFIGwSR",
        "colab": {
          "base_uri": "https://localhost:8080/"
        },
        "outputId": "3adb4ce8-94c0-44dd-b185-9fb560d5e238"
      },
      "source": [
        "replace_l = replace_letter(word='can',verbose=True)"
      ],
      "execution_count": null,
      "outputs": [
        {
          "output_type": "stream",
          "text": [
            "Input word = can \n",
            "split_l = [('', 'can'), ('c', 'an'), ('ca', 'n')] \n",
            "replace_l ['aan', 'ban', 'caa', 'cab', 'cac', 'cad', 'cae', 'caf', 'cag', 'cah', 'cai', 'caj', 'cak', 'cal', 'cam', 'cao', 'cap', 'caq', 'car', 'cas', 'cat', 'cau', 'cav', 'caw', 'cax', 'cay', 'caz', 'cbn', 'ccn', 'cdn', 'cen', 'cfn', 'cgn', 'chn', 'cin', 'cjn', 'ckn', 'cln', 'cmn', 'cnn', 'con', 'cpn', 'cqn', 'crn', 'csn', 'ctn', 'cun', 'cvn', 'cwn', 'cxn', 'cyn', 'czn', 'dan', 'ean', 'fan', 'gan', 'han', 'ian', 'jan', 'kan', 'lan', 'man', 'nan', 'oan', 'pan', 'qan', 'ran', 'san', 'tan', 'uan', 'van', 'wan', 'xan', 'yan', 'zan']\n"
          ],
          "name": "stdout"
        }
      ]
    },
    {
      "cell_type": "code",
      "metadata": {
        "id": "y90hVIAuG3ZR"
      },
      "source": [
        "def insert_letter(word, verbose=False):\n",
        "    \n",
        "    letters = 'abcdefghijklmnopqrstuvwxyz'\n",
        "    insert_l = []\n",
        "    split_l = []\n",
        "    \n",
        "    split_l = [(word[:i],word[i:]) for i in range(len(word)+1)]\n",
        "    \n",
        "    insert_l = [ l+c+r for l,r in split_l for c in letters ]\n",
        "    \n",
        "    if verbose: print(f\"Input word {word} \\nsplit_l = {split_l} \\ninsert_l = {insert_l}\")\n",
        "    \n",
        "    return insert_l"
      ],
      "execution_count": null,
      "outputs": []
    },
    {
      "cell_type": "code",
      "metadata": {
        "id": "V_ORJ5x1HAwh",
        "colab": {
          "base_uri": "https://localhost:8080/"
        },
        "outputId": "62472c69-4f59-4229-9c9e-611fa5f3640e"
      },
      "source": [
        "insert_l = insert_letter('at', True)\n",
        "print(f\"Number of strings output by insert_letter('at') is {len(insert_l)}\")"
      ],
      "execution_count": null,
      "outputs": [
        {
          "output_type": "stream",
          "text": [
            "Input word at \n",
            "split_l = [('', 'at'), ('a', 't'), ('at', '')] \n",
            "insert_l = ['aat', 'bat', 'cat', 'dat', 'eat', 'fat', 'gat', 'hat', 'iat', 'jat', 'kat', 'lat', 'mat', 'nat', 'oat', 'pat', 'qat', 'rat', 'sat', 'tat', 'uat', 'vat', 'wat', 'xat', 'yat', 'zat', 'aat', 'abt', 'act', 'adt', 'aet', 'aft', 'agt', 'aht', 'ait', 'ajt', 'akt', 'alt', 'amt', 'ant', 'aot', 'apt', 'aqt', 'art', 'ast', 'att', 'aut', 'avt', 'awt', 'axt', 'ayt', 'azt', 'ata', 'atb', 'atc', 'atd', 'ate', 'atf', 'atg', 'ath', 'ati', 'atj', 'atk', 'atl', 'atm', 'atn', 'ato', 'atp', 'atq', 'atr', 'ats', 'att', 'atu', 'atv', 'atw', 'atx', 'aty', 'atz']\n",
            "Number of strings output by insert_letter('at') is 78\n"
          ],
          "name": "stdout"
        }
      ]
    },
    {
      "cell_type": "code",
      "metadata": {
        "id": "HNbGroNNHF0B"
      },
      "source": [
        "def edit_one_letter(word, allow_switches = True):\n",
        "    edit_one_set = set()\n",
        "    \n",
        "    for i in delete_letter(word):\n",
        "        edit_one_set.add(i)\n",
        "        \n",
        "    for i in replace_letter(word):\n",
        "        edit_one_set.add(i)\n",
        "        \n",
        "    for i in insert_letter(word):\n",
        "        edit_one_set.add(i)\n",
        "        \n",
        "    if allow_switches == True:\n",
        "        for i in switch_letter(word):\n",
        "            edit_one_set.add(i)\n",
        "    \n",
        "    return edit_one_set"
      ],
      "execution_count": null,
      "outputs": []
    },
    {
      "cell_type": "code",
      "metadata": {
        "id": "XABd86L8HTO7",
        "colab": {
          "base_uri": "https://localhost:8080/"
        },
        "outputId": "0c064cdd-4d26-43ca-9ac7-495fe662a19f"
      },
      "source": [
        "tmp_word = \"at\"\n",
        "tmp_edit_one_set = edit_one_letter(tmp_word)\n",
        "tmp_edit_one_l = sorted(list(tmp_edit_one_set))\n",
        "\n",
        "print(f\"input word {tmp_word} \\nedit_one_l \\n{tmp_edit_one_l}\\n\")\n",
        "print(f\"The type of the returned object should be a set {type(tmp_edit_one_set)}\")\n",
        "print(f\"Number of outputs from edit_one_letter('at') is {len(edit_one_letter('at'))}\")"
      ],
      "execution_count": null,
      "outputs": [
        {
          "output_type": "stream",
          "text": [
            "input word at \n",
            "edit_one_l \n",
            "['a', 'aa', 'aat', 'ab', 'abt', 'ac', 'act', 'ad', 'adt', 'ae', 'aet', 'af', 'aft', 'ag', 'agt', 'ah', 'aht', 'ai', 'ait', 'aj', 'ajt', 'ak', 'akt', 'al', 'alt', 'am', 'amt', 'an', 'ant', 'ao', 'aot', 'ap', 'apt', 'aq', 'aqt', 'ar', 'art', 'as', 'ast', 'ata', 'atb', 'atc', 'atd', 'ate', 'atf', 'atg', 'ath', 'ati', 'atj', 'atk', 'atl', 'atm', 'atn', 'ato', 'atp', 'atq', 'atr', 'ats', 'att', 'atu', 'atv', 'atw', 'atx', 'aty', 'atz', 'au', 'aut', 'av', 'avt', 'aw', 'awt', 'ax', 'axt', 'ay', 'ayt', 'az', 'azt', 'bat', 'bt', 'cat', 'ct', 'dat', 'dt', 'eat', 'et', 'fat', 'ft', 'gat', 'gt', 'hat', 'ht', 'iat', 'it', 'jat', 'jt', 'kat', 'kt', 'lat', 'lt', 'mat', 'mt', 'nat', 'nt', 'oat', 'ot', 'pat', 'pt', 'qat', 'qt', 'rat', 'rt', 'sat', 'st', 't', 'ta', 'tat', 'tt', 'uat', 'ut', 'vat', 'vt', 'wat', 'wt', 'xat', 'xt', 'yat', 'yt', 'zat', 'zt']\n",
            "\n",
            "The type of the returned object should be a set <class 'set'>\n",
            "Number of outputs from edit_one_letter('at') is 129\n"
          ],
          "name": "stdout"
        }
      ]
    },
    {
      "cell_type": "code",
      "metadata": {
        "id": "WvOlwr7OHbLn"
      },
      "source": [
        "def edit_two_letters(word, allow_switches = True):\n",
        "    edit_two_set = set()\n",
        "    \n",
        "    edit_one_set = edit_one_letter(word)\n",
        "    \n",
        "    for word in edit_one_set:\n",
        "        for i in delete_letter(word):\n",
        "            edit_two_set.add(i)\n",
        "        \n",
        "        for i in replace_letter(word):\n",
        "            edit_two_set.add(i)\n",
        "        \n",
        "        for i in insert_letter(word):\n",
        "            edit_two_set.add(i)\n",
        "        \n",
        "        if allow_switches == True:\n",
        "            for i in switch_letter(word):\n",
        "                edit_two_set.add(i)\n",
        "                \n",
        "    edit_two_set = set.union(edit_two_set,edit_one_set)\n",
        "    return edit_two_set"
      ],
      "execution_count": null,
      "outputs": []
    },
    {
      "cell_type": "code",
      "metadata": {
        "id": "eQT7iYyNHnum",
        "colab": {
          "base_uri": "https://localhost:8080/"
        },
        "outputId": "910a3176-74ca-4417-8aa6-9ae4a7496929"
      },
      "source": [
        "tmp_edit_two_set = edit_two_letters(\"a\")\n",
        "tmp_edit_two_l = sorted(list(tmp_edit_two_set))\n",
        "print(f\"Number of strings with edit distance of two: {len(tmp_edit_two_l)}\")\n",
        "print(f\"First 10 strings {tmp_edit_two_l[:10]}\")\n",
        "print(f\"Last 10 strings {tmp_edit_two_l[-10:]}\")\n",
        "print(f\"The data type of the returned object should be a set {type(tmp_edit_two_set)}\")\n",
        "print(f\"Number of strings that are 2 edit distances from 'at' is {len(edit_two_letters('at'))}\")"
      ],
      "execution_count": null,
      "outputs": [
        {
          "output_type": "stream",
          "text": [
            "Number of strings with edit distance of two: 2654\n",
            "First 10 strings ['', 'a', 'aa', 'aaa', 'aab', 'aac', 'aad', 'aae', 'aaf', 'aag']\n",
            "Last 10 strings ['zv', 'zva', 'zw', 'zwa', 'zx', 'zxa', 'zy', 'zya', 'zz', 'zza']\n",
            "The data type of the returned object should be a set <class 'set'>\n",
            "Number of strings that are 2 edit distances from 'at' is 7154\n"
          ],
          "name": "stdout"
        }
      ]
    },
    {
      "cell_type": "code",
      "metadata": {
        "id": "GjFXeRJKHtDk"
      },
      "source": [
        "def get_corrections(word, probs, vocab, n=2, verbose = False):\n",
        "    suggestions = []\n",
        "    n_best = []\n",
        "    \n",
        "    one = edit_one_letter(word)\n",
        "    two = edit_two_letters(word)\n",
        "    c=0\n",
        "    d=0\n",
        "    e=0\n",
        "    if word in vocab:\n",
        "        suggestions.append(word)\n",
        "        c=1\n",
        "    \n",
        "    elif c==0:\n",
        "        for i in one:\n",
        "            if i in vocab:\n",
        "                suggestions.append(i)\n",
        "                d=1\n",
        "    \n",
        "    elif c==0 and d==0:\n",
        "        for i in two:\n",
        "            if i in vocab:\n",
        "                suggestions.append(i)\n",
        "                e=1\n",
        "                \n",
        "    else:\n",
        "        suggestions.append(word)\n",
        "        \n",
        "    best_words = {}\n",
        "    for i in suggestions:\n",
        "        if i in vocab:\n",
        "            best_words[i] = probs[i]\n",
        "        else:\n",
        "            best_words[i] = 0\n",
        "    \n",
        "    bi = []\n",
        "    for i,j in best_words.items():\n",
        "        bi.append((j,i))\n",
        "        \n",
        "    bi = sorted(bi)\n",
        "    \n",
        "    f=0\n",
        "    for i in range(len(bi)-1,-1,-1):\n",
        "        n_best.append((bi[i][1],bi[i][0]))\n",
        "        f+=1\n",
        "        if f==n:\n",
        "            break\n",
        "    \n",
        "    if verbose: print(\"suggestions = \", suggestions)\n",
        "\n",
        "    return n_best"
      ],
      "execution_count": null,
      "outputs": []
    },
    {
      "cell_type": "code",
      "metadata": {
        "id": "5y4cwm2TH9jE",
        "colab": {
          "base_uri": "https://localhost:8080/"
        },
        "outputId": "c8499a71-8801-4c0d-dedf-d64ea0888493"
      },
      "source": [
        "my_word = 'dys' \n",
        "tmp_corrections = get_corrections(my_word, probs, vocab, 2, verbose=True)\n",
        "for i, word_prob in enumerate(tmp_corrections):\n",
        "    print(f\"word {i}: {word_prob[0]}, probability {word_prob[1]:.6f}\")\n",
        "\n",
        "print(f\"data type of corrections {type(tmp_corrections)}\")"
      ],
      "execution_count": null,
      "outputs": [
        {
          "output_type": "stream",
          "text": [
            "suggestions =  ['days', 'dye']\n",
            "word 0: days, probability 0.000410\n",
            "word 1: dye, probability 0.000019\n",
            "data type of corrections <class 'list'>\n"
          ],
          "name": "stdout"
        }
      ]
    }
  ]
}